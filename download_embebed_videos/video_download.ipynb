{
 "cells": [
  {
   "cell_type": "code",
   "execution_count": 4,
   "metadata": {
    "collapsed": true
   },
   "outputs": [],
   "source": [
    "import  requests\n",
    "import bs4"
   ]
  },
  {
   "cell_type": "code",
   "execution_count": 9,
   "outputs": [],
   "source": [
    "chunk_size = 256\n",
    "link = \"https://codigofacilito.com/videos/introduccion-al-curso-e69ddba0-9e67-4abf-a612-a525688eaf27\"\n",
    "url = 'https://i.vimeocdn.com/video/660751086.jpg?mw=1100&mh=619'"
   ],
   "metadata": {
    "collapsed": false,
    "pycharm": {
     "name": "#%%\n"
    }
   }
  },
  {
   "cell_type": "code",
   "execution_count": 10,
   "outputs": [
    {
     "data": {
      "text/plain": "['/',\n '/cursos',\n '/aprendiendo-en-casa',\n '/agenda',\n '#!',\n '/cursos',\n '/especialidades',\n '/articulos',\n '/talleres',\n '/subscribe',\n '/users/sign_in',\n '/suscripcion#plans',\n '#',\n '/activities/read_all',\n '/notificaciones',\n '/',\n '/cursos',\n '/articulos',\n '/talleres',\n '/especialidades',\n '/cdn-cgi/l/email-protection#6d0c1418090c2d0e0209040a020b0c0e0401041902430e0200',\n '/users/sign_in',\n '/users/sign_up',\n '#',\n '/cursos/python-profesional',\n '/blocks/420',\n '/videos/introduccion-al-curso-e69ddba0-9e67-4abf-a612-a525688eaf27',\n '/videos/que-es-python',\n '/videos/instalacion-en-windows',\n '/videos/instalacion-linux',\n '/videos/instalacion-mac',\n '/videos/ides-y-editores',\n '/videos/hola-mundo',\n '/videos/interpretados-y-compilados',\n '/blocks/421',\n '/blocks/422',\n '/blocks/423',\n '/blocks/424',\n '/blocks/425',\n '/blocks/426',\n '/blocks/427',\n '/blocks/428',\n '/blocks/429',\n '/blocks/431',\n '/quizzes/curso-profesional-python',\n '/videos/que-es-python',\n '/subscribe',\n '#about_course',\n '#community',\n '/videos/5669/answers?page=2',\n '/cursos',\n '/talleres',\n '/subscribe',\n '/articulos',\n '/categories/web',\n '/categories/movil',\n '/categories/frontend-web',\n '/categories/backend-web',\n '/users/sign_in',\n '/users/sign_up',\n '/cdn-cgi/l/email-protection#fb9a828e9f9abb98949f929c949d9a989297928f94d5989496',\n 'https://www.youtube.com/user/codigofacilito',\n 'https://facebook.com/codigofacilito',\n 'https://twitter.com/codigofacilito',\n 'https://www.instagram.com/codigofacilito/']"
     },
     "execution_count": 10,
     "metadata": {},
     "output_type": "execute_result"
    }
   ],
   "source": [
    "def get_links(url):\n",
    "    response = requests.get(url)\n",
    "    soup = bs4.BeautifulSoup(response.text, \"lxml\")\n",
    "    files_2 = [a.attrs.get(\"href\") for a in soup.select(\"a\")]\n",
    "    files = files_2[0:]\n",
    "    return files\n",
    "\n",
    "a = get_links(link)\n",
    "a"
   ],
   "metadata": {
    "collapsed": false,
    "pycharm": {
     "name": "#%%\n"
    }
   }
  },
  {
   "cell_type": "code",
   "execution_count": null,
   "outputs": [],
   "source": [
    "r = requests.get(url, stream = True)\n",
    "with open('fdxd.mp4', 'wb') as f:\n",
    "    for chunk in r.iter_content(chunk_size = chunk_size):\n",
    "        f.write(chunk)"
   ],
   "metadata": {
    "collapsed": false,
    "pycharm": {
     "name": "#%%\n"
    }
   }
  },
  {
   "cell_type": "code",
   "execution_count": null,
   "outputs": [],
   "source": [
    "\n"
   ],
   "metadata": {
    "collapsed": false,
    "pycharm": {
     "name": "#%%\n"
    }
   }
  }
 ],
 "metadata": {
  "kernelspec": {
   "display_name": "Python 3",
   "language": "python",
   "name": "python3"
  },
  "language_info": {
   "codemirror_mode": {
    "name": "ipython",
    "version": 2
   },
   "file_extension": ".py",
   "mimetype": "text/x-python",
   "name": "python",
   "nbconvert_exporter": "python",
   "pygments_lexer": "ipython2",
   "version": "2.7.6"
  }
 },
 "nbformat": 4,
 "nbformat_minor": 0
}